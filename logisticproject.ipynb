{
 "cells": [
  {
   "cell_type": "code",
   "execution_count": 3,
   "id": "5ee3d479",
   "metadata": {},
   "outputs": [
    {
     "name": "stdout",
     "output_type": "stream",
     "text": [
      "Requirement already satisfied: seaborn in c:\\users\\kshitij verma\\desktop\\internship\\venv\\lib\\site-packages (0.13.2)\n",
      "Requirement already satisfied: numpy!=1.24.0,>=1.20 in c:\\users\\kshitij verma\\desktop\\internship\\venv\\lib\\site-packages (from seaborn) (2.2.4)\n",
      "Requirement already satisfied: pandas>=1.2 in c:\\users\\kshitij verma\\desktop\\internship\\venv\\lib\\site-packages (from seaborn) (2.3.0)\n",
      "Requirement already satisfied: matplotlib!=3.6.1,>=3.4 in c:\\users\\kshitij verma\\desktop\\internship\\venv\\lib\\site-packages (from seaborn) (3.10.3)\n",
      "Requirement already satisfied: contourpy>=1.0.1 in c:\\users\\kshitij verma\\desktop\\internship\\venv\\lib\\site-packages (from matplotlib!=3.6.1,>=3.4->seaborn) (1.3.2)\n",
      "Requirement already satisfied: cycler>=0.10 in c:\\users\\kshitij verma\\desktop\\internship\\venv\\lib\\site-packages (from matplotlib!=3.6.1,>=3.4->seaborn) (0.12.1)\n",
      "Requirement already satisfied: fonttools>=4.22.0 in c:\\users\\kshitij verma\\desktop\\internship\\venv\\lib\\site-packages (from matplotlib!=3.6.1,>=3.4->seaborn) (4.58.4)\n",
      "Requirement already satisfied: kiwisolver>=1.3.1 in c:\\users\\kshitij verma\\desktop\\internship\\venv\\lib\\site-packages (from matplotlib!=3.6.1,>=3.4->seaborn) (1.4.8)\n",
      "Requirement already satisfied: packaging>=20.0 in c:\\users\\kshitij verma\\desktop\\internship\\venv\\lib\\site-packages (from matplotlib!=3.6.1,>=3.4->seaborn) (24.2)\n",
      "Requirement already satisfied: pillow>=8 in c:\\users\\kshitij verma\\desktop\\internship\\venv\\lib\\site-packages (from matplotlib!=3.6.1,>=3.4->seaborn) (11.2.1)\n",
      "Requirement already satisfied: pyparsing>=2.3.1 in c:\\users\\kshitij verma\\desktop\\internship\\venv\\lib\\site-packages (from matplotlib!=3.6.1,>=3.4->seaborn) (3.2.3)\n",
      "Requirement already satisfied: python-dateutil>=2.7 in c:\\users\\kshitij verma\\desktop\\internship\\venv\\lib\\site-packages (from matplotlib!=3.6.1,>=3.4->seaborn) (2.9.0.post0)\n",
      "Requirement already satisfied: pytz>=2020.1 in c:\\users\\kshitij verma\\desktop\\internship\\venv\\lib\\site-packages (from pandas>=1.2->seaborn) (2025.2)\n",
      "Requirement already satisfied: tzdata>=2022.7 in c:\\users\\kshitij verma\\desktop\\internship\\venv\\lib\\site-packages (from pandas>=1.2->seaborn) (2025.2)\n",
      "Requirement already satisfied: six>=1.5 in c:\\users\\kshitij verma\\desktop\\internship\\venv\\lib\\site-packages (from python-dateutil>=2.7->matplotlib!=3.6.1,>=3.4->seaborn) (1.17.0)\n"
     ]
    }
   ],
   "source": [
    "\n",
    "!pip install seaborn\n"
   ]
  },
  {
   "cell_type": "code",
   "execution_count": 44,
   "id": "858c560c",
   "metadata": {},
   "outputs": [
    {
     "name": "stdout",
     "output_type": "stream",
     "text": [
      "customerID          0\n",
      "gender              0\n",
      "SeniorCitizen       0\n",
      "Partner             0\n",
      "Dependents          0\n",
      "tenure              0\n",
      "PhoneService        0\n",
      "MultipleLines       0\n",
      "InternetService     0\n",
      "OnlineSecurity      0\n",
      "OnlineBackup        0\n",
      "DeviceProtection    0\n",
      "TechSupport         0\n",
      "StreamingTV         0\n",
      "StreamingMovies     0\n",
      "Contract            0\n",
      "PaperlessBilling    0\n",
      "PaymentMethod       0\n",
      "MonthlyCharges      0\n",
      "TotalCharges        0\n",
      "Churn               0\n",
      "dtype: int64\n"
     ]
    },
    {
     "name": "stderr",
     "output_type": "stream",
     "text": [
      "C:\\Users\\Kshitij verma\\AppData\\Local\\Temp\\ipykernel_34760\\1958823712.py:10: FutureWarning: Downcasting behavior in `replace` is deprecated and will be removed in a future version. To retain the old behavior, explicitly call `result.infer_objects(copy=False)`. To opt-in to the future behavior, set `pd.set_option('future.no_silent_downcasting', True)`\n",
      "  df[i]=df[i].replace({\n",
      "C:\\Users\\Kshitij verma\\AppData\\Local\\Temp\\ipykernel_34760\\1958823712.py:23: FutureWarning: Downcasting behavior in `replace` is deprecated and will be removed in a future version. To retain the old behavior, explicitly call `result.infer_objects(copy=False)`. To opt-in to the future behavior, set `pd.set_option('future.no_silent_downcasting', True)`\n",
      "  df[i]=df[i].replace({\n",
      "C:\\Users\\Kshitij verma\\AppData\\Local\\Temp\\ipykernel_34760\\1958823712.py:29: FutureWarning: Downcasting behavior in `replace` is deprecated and will be removed in a future version. To retain the old behavior, explicitly call `result.infer_objects(copy=False)`. To opt-in to the future behavior, set `pd.set_option('future.no_silent_downcasting', True)`\n",
      "  df['MultipleLines']=df['MultipleLines'].replace({\n"
     ]
    }
   ],
   "source": [
    "import pandas as pd\n",
    "\n",
    "path = r\"C:\\Users\\Kshitij verma\\Desktop\\customer_churn\\WA_Fn-UseC_-Telco-Customer-Churn.csv\"\n",
    "\n",
    "df = pd.read_csv(path, encoding='latin1')  # or try encoding='ISO-8859-1' or 'cp1252'\n",
    "\n",
    "array=[\"Partner\",\"Dependents\",\"PhoneService\",\"PaperlessBilling\",\"Churn\"]\n",
    "\n",
    "for i in array:\n",
    "    df[i]=df[i].replace({\n",
    "        'No':0,\n",
    "        'Yes':1\n",
    "    })\n",
    "\n",
    "print(df.isnull().sum())\n",
    "\n",
    "\n",
    "\n",
    "array2=[\"OnlineSecurity\",\"OnlineBackup\",\"DeviceProtection\",\"TechSupport\",\"StreamingTV\",\"StreamingMovies\"]\n",
    "\n",
    "\n",
    "for i in array2:\n",
    "    df[i]=df[i].replace({\n",
    "        'Yes':1,\n",
    "        'No':0,\n",
    "        'No internet service':0,\n",
    "    })\n",
    "\n",
    "df['MultipleLines']=df['MultipleLines'].replace({\n",
    "    'Yes':1,\n",
    "    'No':0,\n",
    "    'No phone service':0\n",
    "})"
   ]
  },
  {
   "cell_type": "code",
   "execution_count": 32,
   "id": "ee725164",
   "metadata": {},
   "outputs": [
    {
     "name": "stdout",
     "output_type": "stream",
     "text": [
      "      customerID  gender  SeniorCitizen  Partner  Dependents  tenure  \\\n",
      "0     7590-VHVEG  Female              0        1           0       1   \n",
      "1     5575-GNVDE    Male              0        0           0      34   \n",
      "2     3668-QPYBK    Male              0        0           0       2   \n",
      "3     7795-CFOCW    Male              0        0           0      45   \n",
      "4     9237-HQITU  Female              0        0           0       2   \n",
      "...          ...     ...            ...      ...         ...     ...   \n",
      "7038  6840-RESVB    Male              0        1           1      24   \n",
      "7039  2234-XADUH  Female              0        1           1      72   \n",
      "7040  4801-JZAZL  Female              0        1           1      11   \n",
      "7041  8361-LTMKD    Male              1        1           0       4   \n",
      "7042  3186-AJIEK    Male              0        0           0      66   \n",
      "\n",
      "      PhoneService  MultipleLines InternetService OnlineSecurity  ...  \\\n",
      "0                0              0             DSL              0  ...   \n",
      "1                1              0             DSL              1  ...   \n",
      "2                1              0             DSL              1  ...   \n",
      "3                0              0             DSL              1  ...   \n",
      "4                1              0     Fiber optic              0  ...   \n",
      "...            ...            ...             ...            ...  ...   \n",
      "7038             1              1             DSL              1  ...   \n",
      "7039             1              1     Fiber optic              0  ...   \n",
      "7040             0              0             DSL              1  ...   \n",
      "7041             1              1     Fiber optic              0  ...   \n",
      "7042             1              0     Fiber optic              1  ...   \n",
      "\n",
      "     DeviceProtection TechSupport StreamingTV StreamingMovies        Contract  \\\n",
      "0                   0           0           0               0  Month-to-month   \n",
      "1                   1           0           0               0        One year   \n",
      "2                   0           0           0               0  Month-to-month   \n",
      "3                   1           1           0               0        One year   \n",
      "4                   0           0           0               0  Month-to-month   \n",
      "...               ...         ...         ...             ...             ...   \n",
      "7038                1           1           1               1        One year   \n",
      "7039                1           0           1               1        One year   \n",
      "7040                0           0           0               0  Month-to-month   \n",
      "7041                0           0           0               0  Month-to-month   \n",
      "7042                1           1           1               1        Two year   \n",
      "\n",
      "     PaperlessBilling              PaymentMethod MonthlyCharges  TotalCharges  \\\n",
      "0                   1           Electronic check          29.85         29.85   \n",
      "1                   0               Mailed check          56.95        1889.5   \n",
      "2                   1               Mailed check          53.85        108.15   \n",
      "3                   0  Bank transfer (automatic)          42.30       1840.75   \n",
      "4                   1           Electronic check          70.70        151.65   \n",
      "...               ...                        ...            ...           ...   \n",
      "7038                1               Mailed check          84.80        1990.5   \n",
      "7039                1    Credit card (automatic)         103.20        7362.9   \n",
      "7040                1           Electronic check          29.60        346.45   \n",
      "7041                1               Mailed check          74.40         306.6   \n",
      "7042                1  Bank transfer (automatic)         105.65        6844.5   \n",
      "\n",
      "     Churn  \n",
      "0        0  \n",
      "1        0  \n",
      "2        1  \n",
      "3        0  \n",
      "4        1  \n",
      "...    ...  \n",
      "7038     0  \n",
      "7039     0  \n",
      "7040     0  \n",
      "7041     1  \n",
      "7042     0  \n",
      "\n",
      "[7043 rows x 21 columns]\n"
     ]
    }
   ],
   "source": [
    "print(df)"
   ]
  },
  {
   "cell_type": "code",
   "execution_count": 45,
   "id": "d1654e6a",
   "metadata": {},
   "outputs": [
    {
     "name": "stdout",
     "output_type": "stream",
     "text": [
      "['DSL' 'Fiber optic' 'No']\n"
     ]
    }
   ],
   "source": [
    "#one hot eoncoding for internetservice, contract and Payment method\n",
    "print(df['InternetService'].unique())\n",
    "df = pd.get_dummies(df, columns=['InternetService'], drop_first=True)\n",
    "df = pd.get_dummies(df, columns=['Contract'], drop_first=True)\n",
    "df = pd.get_dummies(df, columns=['PaymentMethod'], drop_first=True)"
   ]
  },
  {
   "cell_type": "code",
   "execution_count": 29,
   "id": "e5fe2a44",
   "metadata": {},
   "outputs": [
    {
     "name": "stdout",
     "output_type": "stream",
     "text": [
      "SeniorCitizen             0\n",
      "Partner                   0\n",
      "Dependents                0\n",
      "tenure                    0\n",
      "PhoneService              0\n",
      "                         ..\n",
      "InternetService_997.75    0\n",
      "InternetService_998.1     0\n",
      "InternetService_999.45    0\n",
      "InternetService_999.8     0\n",
      "InternetService_999.9     0\n",
      "Length: 13601, dtype: int64\n"
     ]
    }
   ],
   "source": [
    "print(df.isnull().sum())"
   ]
  },
  {
   "cell_type": "code",
   "execution_count": 46,
   "id": "f30e4d40",
   "metadata": {},
   "outputs": [
    {
     "name": "stdout",
     "output_type": "stream",
     "text": [
      "customerID                               0\n",
      "gender                                   0\n",
      "SeniorCitizen                            0\n",
      "Partner                                  0\n",
      "Dependents                               0\n",
      "tenure                                   0\n",
      "PhoneService                             0\n",
      "MultipleLines                            0\n",
      "OnlineSecurity                           0\n",
      "OnlineBackup                             0\n",
      "DeviceProtection                         0\n",
      "TechSupport                              0\n",
      "StreamingTV                              0\n",
      "StreamingMovies                          0\n",
      "PaperlessBilling                         0\n",
      "MonthlyCharges                           0\n",
      "TotalCharges                             0\n",
      "Churn                                    0\n",
      "InternetService_Fiber optic              0\n",
      "InternetService_No                       0\n",
      "Contract_One year                        0\n",
      "Contract_Two year                        0\n",
      "PaymentMethod_Credit card (automatic)    0\n",
      "PaymentMethod_Electronic check           0\n",
      "PaymentMethod_Mailed check               0\n",
      "dtype: int64\n"
     ]
    },
    {
     "name": "stderr",
     "output_type": "stream",
     "text": [
      "C:\\Users\\Kshitij verma\\AppData\\Local\\Temp\\ipykernel_34760\\3740350916.py:1: FutureWarning: Downcasting behavior in `replace` is deprecated and will be removed in a future version. To retain the old behavior, explicitly call `result.infer_objects(copy=False)`. To opt-in to the future behavior, set `pd.set_option('future.no_silent_downcasting', True)`\n",
      "  df['gender']=df['gender'].replace({\n"
     ]
    }
   ],
   "source": [
    "df['gender']=df['gender'].replace({\n",
    "    'Male':1,\n",
    "    'Female':0\n",
    "})\n",
    "\n",
    "\n",
    "df['TotalCharges']=pd.to_numeric(df['TotalCharges'],errors='coerce')\n",
    "\n",
    "df.dropna(inplace=True)  #what\n",
    "print(df.isnull().sum())"
   ]
  },
  {
   "cell_type": "code",
   "execution_count": 47,
   "id": "b23608cc",
   "metadata": {},
   "outputs": [
    {
     "name": "stdout",
     "output_type": "stream",
     "text": [
      "Accuracy : 0.7882018479033405\n",
      "Precision: 0.6225806451612903\n",
      "Recall   : 0.516042780748663\n"
     ]
    }
   ],
   "source": [
    "from sklearn.model_selection import train_test_split\n",
    "from sklearn.preprocessing import StandardScaler\n",
    "from sklearn.linear_model import LogisticRegression\n",
    "from sklearn.metrics import accuracy_score,precision_score,recall_score\n",
    "\n",
    "\n",
    "\n",
    "# Drop ID column\n",
    "df.drop('customerID', axis=1, inplace=True)\n",
    "\n",
    "# Feature + target split\n",
    "X = df.drop('Churn', axis=1)\n",
    "y = df['Churn']\n",
    "\n",
    "# Train-test split\n",
    "X_train, X_test, y_train, y_test = train_test_split(X, y, test_size=0.2, random_state=42)\n",
    "\n",
    "\n",
    "scaler = StandardScaler()\n",
    "X_train = scaler.fit_transform(X_train)\n",
    "X_test = scaler.transform(X_test)\n",
    "\n",
    "# Train the logistic regression model\n",
    "model = LogisticRegression(max_iter=1000)\n",
    "model.fit(X_train, y_train)\n",
    "\n",
    "# Predict\n",
    "y_pred = model.predict(X_test)\n",
    "\n",
    "print(\"Accuracy :\", accuracy_score(y_test, y_pred))\n",
    "print(\"Precision:\", precision_score(y_test, y_pred))\n",
    "print(\"Recall   :\", recall_score(y_test, y_pred))\n",
    "\n"
   ]
  },
  {
   "cell_type": "code",
   "execution_count": 34,
   "id": "2b070eb3",
   "metadata": {},
   "outputs": [
    {
     "name": "stdout",
     "output_type": "stream",
     "text": [
      "TotalCharges: ['29.85' '1889.5' '108.15' ... '346.45' '306.6' '6844.5']\n"
     ]
    }
   ],
   "source": [
    "for col in df.columns:\n",
    "    if df[col].dtype == 'object':\n",
    "        print(f\"{col}: {df[col].unique()}\")\n"
   ]
  }
 ],
 "metadata": {
  "kernelspec": {
   "display_name": "Python 3",
   "language": "python",
   "name": "python3"
  },
  "language_info": {
   "codemirror_mode": {
    "name": "ipython",
    "version": 3
   },
   "file_extension": ".py",
   "mimetype": "text/x-python",
   "name": "python",
   "nbconvert_exporter": "python",
   "pygments_lexer": "ipython3",
   "version": "3.12.0"
  }
 },
 "nbformat": 4,
 "nbformat_minor": 5
}
